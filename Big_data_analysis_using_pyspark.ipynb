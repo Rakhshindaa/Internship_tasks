{
  "nbformat": 4,
  "nbformat_minor": 0,
  "metadata": {
    "colab": {
      "provenance": [],
      "authorship_tag": "ABX9TyMrPCcvOSL8qIpHdlwnuPeM",
      "include_colab_link": true
    },
    "kernelspec": {
      "name": "python3",
      "display_name": "Python 3"
    },
    "language_info": {
      "name": "python"
    }
  },
  "cells": [
    {
      "cell_type": "markdown",
      "metadata": {
        "id": "view-in-github",
        "colab_type": "text"
      },
      "source": [
        "<a href=\"https://colab.research.google.com/github/Rakhshindaa/Internship_tasks/blob/main/Big_data_analysis_using_pyspark.ipynb\" target=\"_parent\"><img src=\"https://colab.research.google.com/assets/colab-badge.svg\" alt=\"Open In Colab\"/></a>"
      ]
    },
    {
      "cell_type": "code",
      "execution_count": null,
      "metadata": {
        "colab": {
          "base_uri": "https://localhost:8080/"
        },
        "id": "150a03FpDnTs",
        "outputId": "6d81b5a2-8c73-4573-c6fb-e7372f4dde3a"
      },
      "outputs": [
        {
          "output_type": "stream",
          "name": "stdout",
          "text": [
            "Requirement already satisfied: pyspark in /usr/local/lib/python3.11/dist-packages (3.5.4)\n",
            "Requirement already satisfied: py4j==0.10.9.7 in /usr/local/lib/python3.11/dist-packages (from pyspark) (0.10.9.7)\n"
          ]
        }
      ],
      "source": [
        "!pip install pyspark"
      ]
    },
    {
      "cell_type": "code",
      "source": [
        "import pyspark\n",
        "from pyspark.sql.functions import *"
      ],
      "metadata": {
        "id": "d4wL2l25EXb5"
      },
      "execution_count": null,
      "outputs": []
    },
    {
      "cell_type": "code",
      "source": [
        "# import necessary libraries and Create Spark Session\n",
        "from pyspark.sql import SparkSession\n",
        "sparkSession = SparkSession.builder.appName('data_preprocessing').getOrCreate()"
      ],
      "metadata": {
        "id": "K1lZlaV0LLfQ"
      },
      "execution_count": null,
      "outputs": []
    },
    {
      "cell_type": "code",
      "source": [
        "data= sparkSession.read.csv(\"students performance.csv\", header=True)"
      ],
      "metadata": {
        "id": "SF5aJ4KwLZdF"
      },
      "execution_count": null,
      "outputs": []
    },
    {
      "cell_type": "code",
      "source": [
        "data.printSchema()"
      ],
      "metadata": {
        "colab": {
          "base_uri": "https://localhost:8080/"
        },
        "id": "AbIBTGWGL5et",
        "outputId": "e0d7baa9-f126-4413-e325-7cd961d263ff"
      },
      "execution_count": null,
      "outputs": [
        {
          "output_type": "stream",
          "name": "stdout",
          "text": [
            "root\n",
            " |-- gender: string (nullable = true)\n",
            " |-- race/ethnicity: string (nullable = true)\n",
            " |-- parental level of education: string (nullable = true)\n",
            " |-- lunch: string (nullable = true)\n",
            " |-- test preparation course: string (nullable = true)\n",
            " |-- math score: string (nullable = true)\n",
            " |-- reading score: string (nullable = true)\n",
            " |-- writing score: string (nullable = true)\n",
            "\n"
          ]
        }
      ]
    },
    {
      "cell_type": "code",
      "source": [
        "data.show()"
      ],
      "metadata": {
        "colab": {
          "base_uri": "https://localhost:8080/"
        },
        "id": "3DBg43znL7qt",
        "outputId": "1033523e-34b0-448a-f987-1f6bc14cf2f5"
      },
      "execution_count": null,
      "outputs": [
        {
          "output_type": "stream",
          "name": "stdout",
          "text": [
            "+------+--------------+---------------------------+------------+-----------------------+----------+-------------+-------------+\n",
            "|gender|race/ethnicity|parental level of education|       lunch|test preparation course|math score|reading score|writing score|\n",
            "+------+--------------+---------------------------+------------+-----------------------+----------+-------------+-------------+\n",
            "|  male|       group A|            master's degree|    standard|                   none|        66|           62|           63|\n",
            "|  male|       group D|           some high school|    standard|                   none|        95|           84|           86|\n",
            "|  male|       group D|          bachelor's degree|    standard|              completed|      NULL|           70|           66|\n",
            "|  male|       group D|               some college|    standard|                   none|        66|           66|           62|\n",
            "|female|       group B|               some college|    standard|              completed|        60|           76|           73|\n",
            "|  male|       group C|               some college|free/reduced|                   none|        41|           40|           35|\n",
            "|female|       group D|          bachelor's degree|free/reduced|                   none|        67|           71|           71|\n",
            "|  male|       group D|           some high school|    standard|              completed|      NULL|           62|           62|\n",
            "|female|       group C|            master's degree|    standard|              completed|        87|           91|           99|\n",
            "|female|       group D|         associate's degree|free/reduced|              completed|        37|           55|           52|\n",
            "|  male|       group C|                high school|    standard|                   none|        78|           70|           62|\n",
            "|  male|       group C|               some college|free/reduced|                   none|        59|           57|         NULL|\n",
            "|female|       group B|           some high school|    standard|                   none|        77|           89|           87|\n",
            "|  male|       group D|          bachelor's degree|    standard|                   none|        55|           47|           52|\n",
            "|  male|       group C|               some college|    standard|                   none|        77|           67|           65|\n",
            "|female|       group E|                high school|    standard|                   none|        89|           86|           95|\n",
            "|  male|       group D|                high school|    standard|                   none|        77|           72|           67|\n",
            "|female|       group C|               some college|free/reduced|                   none|        32|           46|           48|\n",
            "|  male|       group C|               some college|    standard|                   none|        54|           55|           51|\n",
            "|  male|       group D|            master's degree|    standard|                   none|        96|           92|         NULL|\n",
            "+------+--------------+---------------------------+------------+-----------------------+----------+-------------+-------------+\n",
            "only showing top 20 rows\n",
            "\n"
          ]
        }
      ]
    },
    {
      "cell_type": "code",
      "source": [
        "data.dtypes"
      ],
      "metadata": {
        "colab": {
          "base_uri": "https://localhost:8080/"
        },
        "id": "0KoPvhPhEkg2",
        "outputId": "b8063661-4ed3-4609-e369-2f3b7267fdd7"
      },
      "execution_count": null,
      "outputs": [
        {
          "output_type": "execute_result",
          "data": {
            "text/plain": [
              "[('gender', 'string'),\n",
              " ('race/ethnicity', 'string'),\n",
              " ('parental level of education', 'string'),\n",
              " ('lunch', 'string'),\n",
              " ('test preparation course', 'string'),\n",
              " ('math score', 'string'),\n",
              " ('reading score', 'string'),\n",
              " ('writing score', 'string')]"
            ]
          },
          "metadata": {},
          "execution_count": 14
        }
      ]
    },
    {
      "cell_type": "code",
      "source": [
        "data.describe().show()"
      ],
      "metadata": {
        "colab": {
          "base_uri": "https://localhost:8080/"
        },
        "id": "m9HavKU4EkkS",
        "outputId": "478a34de-eadd-4423-c9be-dbebad58412f"
      },
      "execution_count": null,
      "outputs": [
        {
          "output_type": "stream",
          "name": "stdout",
          "text": [
            "+-------+------+--------------+---------------------------+------------+-----------------------+------------------+------------------+-----------------+\n",
            "|summary|gender|race/ethnicity|parental level of education|       lunch|test preparation course|        math score|     reading score|    writing score|\n",
            "+-------+------+--------------+---------------------------+------------+-----------------------+------------------+------------------+-----------------+\n",
            "|  count|   100|           100|                        100|         100|                    100|                89|                93|               92|\n",
            "|   mean|  NULL|          NULL|                       NULL|        NULL|                   NULL| 67.33707865168539| 69.12903225806451|67.44565217391305|\n",
            "| stddev|  NULL|          NULL|                       NULL|        NULL|                   NULL|15.982905513124667|15.175943353280926|15.45384061260777|\n",
            "|    min|female|       group A|         associate's degree|free/reduced|              completed|               100|               100|              100|\n",
            "|    max|  male|       group E|           some high school|    standard|                   none|                99|                98|               99|\n",
            "+-------+------+--------------+---------------------------+------------+-----------------------+------------------+------------------+-----------------+\n",
            "\n"
          ]
        }
      ]
    },
    {
      "cell_type": "code",
      "source": [
        "# Dropping Entire rows containing Null\n",
        "null_dropped=data.na.drop()\n",
        "null_dropped.show()"
      ],
      "metadata": {
        "colab": {
          "base_uri": "https://localhost:8080/"
        },
        "id": "jeUMos5XMAMC",
        "outputId": "bd23d52c-f436-4fc4-e60e-7d87f097c82a"
      },
      "execution_count": null,
      "outputs": [
        {
          "output_type": "stream",
          "name": "stdout",
          "text": [
            "+------+--------------+---------------------------+------------+-----------------------+----------+-------------+-------------+\n",
            "|gender|race/ethnicity|parental level of education|       lunch|test preparation course|math score|reading score|writing score|\n",
            "+------+--------------+---------------------------+------------+-----------------------+----------+-------------+-------------+\n",
            "|  male|       group A|            master's degree|    standard|                   none|        66|           62|           63|\n",
            "|  male|       group D|           some high school|    standard|                   none|        95|           84|           86|\n",
            "|  male|       group D|               some college|    standard|                   none|        66|           66|           62|\n",
            "|female|       group B|               some college|    standard|              completed|        60|           76|           73|\n",
            "|  male|       group C|               some college|free/reduced|                   none|        41|           40|           35|\n",
            "|female|       group D|          bachelor's degree|free/reduced|                   none|        67|           71|           71|\n",
            "|female|       group C|            master's degree|    standard|              completed|        87|           91|           99|\n",
            "|female|       group D|         associate's degree|free/reduced|              completed|        37|           55|           52|\n",
            "|  male|       group C|                high school|    standard|                   none|        78|           70|           62|\n",
            "|female|       group B|           some high school|    standard|                   none|        77|           89|           87|\n",
            "|  male|       group D|          bachelor's degree|    standard|                   none|        55|           47|           52|\n",
            "|  male|       group C|               some college|    standard|                   none|        77|           67|           65|\n",
            "|female|       group E|                high school|    standard|                   none|        89|           86|           95|\n",
            "|  male|       group D|                high school|    standard|                   none|        77|           72|           67|\n",
            "|female|       group C|               some college|free/reduced|                   none|        32|           46|           48|\n",
            "|  male|       group C|               some college|    standard|                   none|        54|           55|           51|\n",
            "|female|       group B|                high school|free/reduced|                   none|        56|           63|           61|\n",
            "|  male|       group D|         associate's degree|    standard|              completed|       100|           97|           99|\n",
            "|female|       group C|            master's degree|free/reduced|              completed|        54|           57|           67|\n",
            "|  male|       group D|                high school|    standard|                   none|        73|           71|           65|\n",
            "+------+--------------+---------------------------+------------+-----------------------+----------+-------------+-------------+\n",
            "only showing top 20 rows\n",
            "\n"
          ]
        }
      ]
    },
    {
      "cell_type": "code",
      "source": [
        "# Fill Null values inside 'math score'and 'writing score' column with the word 'absent'\n",
        "data.na.fill('absent',subset=['math score','writing score']).show()"
      ],
      "metadata": {
        "colab": {
          "base_uri": "https://localhost:8080/"
        },
        "id": "XH8kWioYMPgS",
        "outputId": "f851d544-eeed-4e92-e53e-676ca2c9b3ff"
      },
      "execution_count": null,
      "outputs": [
        {
          "output_type": "stream",
          "name": "stdout",
          "text": [
            "+------+--------------+---------------------------+------------+-----------------------+----------+-------------+-------------+\n",
            "|gender|race/ethnicity|parental level of education|       lunch|test preparation course|math score|reading score|writing score|\n",
            "+------+--------------+---------------------------+------------+-----------------------+----------+-------------+-------------+\n",
            "|  male|       group A|            master's degree|    standard|                   none|        66|           62|           63|\n",
            "|  male|       group D|           some high school|    standard|                   none|        95|           84|           86|\n",
            "|  male|       group D|          bachelor's degree|    standard|              completed|    absent|           70|           66|\n",
            "|  male|       group D|               some college|    standard|                   none|        66|           66|           62|\n",
            "|female|       group B|               some college|    standard|              completed|        60|           76|           73|\n",
            "|  male|       group C|               some college|free/reduced|                   none|        41|           40|           35|\n",
            "|female|       group D|          bachelor's degree|free/reduced|                   none|        67|           71|           71|\n",
            "|  male|       group D|           some high school|    standard|              completed|    absent|           62|           62|\n",
            "|female|       group C|            master's degree|    standard|              completed|        87|           91|           99|\n",
            "|female|       group D|         associate's degree|free/reduced|              completed|        37|           55|           52|\n",
            "|  male|       group C|                high school|    standard|                   none|        78|           70|           62|\n",
            "|  male|       group C|               some college|free/reduced|                   none|        59|           57|       absent|\n",
            "|female|       group B|           some high school|    standard|                   none|        77|           89|           87|\n",
            "|  male|       group D|          bachelor's degree|    standard|                   none|        55|           47|           52|\n",
            "|  male|       group C|               some college|    standard|                   none|        77|           67|           65|\n",
            "|female|       group E|                high school|    standard|                   none|        89|           86|           95|\n",
            "|  male|       group D|                high school|    standard|                   none|        77|           72|           67|\n",
            "|female|       group C|               some college|free/reduced|                   none|        32|           46|           48|\n",
            "|  male|       group C|               some college|    standard|                   none|        54|           55|           51|\n",
            "|  male|       group D|            master's degree|    standard|                   none|        96|           92|       absent|\n",
            "+------+--------------+---------------------------+------------+-----------------------+----------+-------------+-------------+\n",
            "only showing top 20 rows\n",
            "\n"
          ]
        }
      ]
    },
    {
      "cell_type": "code",
      "source": [
        "# Calculate the average of maths score group by gender\n",
        "avg_maths = data.groupBy(\"gender\").agg(avg(\"math score\"))\n",
        "avg_maths.show()"
      ],
      "metadata": {
        "colab": {
          "base_uri": "https://localhost:8080/"
        },
        "id": "oZyl4YkSOFpZ",
        "outputId": "546c383b-7b96-4b3c-8580-87eaf04272c1"
      },
      "execution_count": null,
      "outputs": [
        {
          "output_type": "stream",
          "name": "stdout",
          "text": [
            "+------+-----------------+\n",
            "|gender|  avg(math score)|\n",
            "+------+-----------------+\n",
            "|female|64.53846153846153|\n",
            "|  male|            69.52|\n",
            "+------+-----------------+\n",
            "\n"
          ]
        }
      ]
    },
    {
      "cell_type": "code",
      "source": [
        "# count of students group by lunch\n",
        "lunch_count= data.groupBy(\"lunch\").agg(count('*'))\n",
        "lunch_count.show()"
      ],
      "metadata": {
        "colab": {
          "base_uri": "https://localhost:8080/"
        },
        "id": "dqSQH-xWPWGB",
        "outputId": "bc69989d-871f-4bdb-b350-9245dc2ebb2b"
      },
      "execution_count": null,
      "outputs": [
        {
          "output_type": "stream",
          "name": "stdout",
          "text": [
            "+------------+--------+\n",
            "|       lunch|count(1)|\n",
            "+------------+--------+\n",
            "|free/reduced|      28|\n",
            "|    standard|      72|\n",
            "+------------+--------+\n",
            "\n"
          ]
        }
      ]
    },
    {
      "cell_type": "code",
      "source": [
        "# Count of students group by parental level of education\n",
        "avg_lunch = data.groupBy(\"parental level of education\").agg(count('*'))\n",
        "avg_lunch.show()"
      ],
      "metadata": {
        "colab": {
          "base_uri": "https://localhost:8080/"
        },
        "id": "tG21Y2HtP1ST",
        "outputId": "2554a139-c931-499d-8774-a953d165fe0b"
      },
      "execution_count": null,
      "outputs": [
        {
          "output_type": "stream",
          "name": "stdout",
          "text": [
            "+---------------------------+--------+\n",
            "|parental level of education|count(1)|\n",
            "+---------------------------+--------+\n",
            "|           some high school|      19|\n",
            "|         associate's degree|      22|\n",
            "|                high school|      16|\n",
            "|          bachelor's degree|      18|\n",
            "|            master's degree|       9|\n",
            "|               some college|      16|\n",
            "+---------------------------+--------+\n",
            "\n"
          ]
        }
      ]
    },
    {
      "cell_type": "code",
      "source": [
        "from pyspark.sql.types import IntegerType\n",
        "# Cast 'math score' column to IntegerType\n",
        "data = data.withColumn(\" score\", data[\"math score\"].cast(IntegerType()))\n",
        "#Finding the details of students with poor performance (less than 35 marks) in math\n",
        "poor_performance=data.filter(data[\"math score\"]<35)\n",
        "poor_performance.show()"
      ],
      "metadata": {
        "colab": {
          "base_uri": "https://localhost:8080/"
        },
        "id": "njoSzdESDvC3",
        "outputId": "b8c49319-2b7b-4fc4-b1c3-fe09fa25e6c7"
      },
      "execution_count": null,
      "outputs": [
        {
          "output_type": "stream",
          "name": "stdout",
          "text": [
            "+------+--------------+---------------------------+------------+-----------------------+----------+-------------+-------------+------+\n",
            "|gender|race/ethnicity|parental level of education|       lunch|test preparation course|math score|reading score|writing score| score|\n",
            "+------+--------------+---------------------------+------------+-----------------------+----------+-------------+-------------+------+\n",
            "|female|       group C|               some college|free/reduced|                   none|        32|           46|           48|    32|\n",
            "+------+--------------+---------------------------+------------+-----------------------+----------+-------------+-------------+------+\n",
            "\n"
          ]
        }
      ]
    },
    {
      "cell_type": "code",
      "source": [
        "#Finding the details of students with highest performance (more than 90 marks) in math\n",
        "best_performance=data.filter(data[\"math score\"]>=90)\n",
        "best_performance.show()"
      ],
      "metadata": {
        "colab": {
          "base_uri": "https://localhost:8080/"
        },
        "id": "6HulweEZFZ_z",
        "outputId": "e823d2c8-b91a-4204-a66c-19b0c752d35e"
      },
      "execution_count": null,
      "outputs": [
        {
          "output_type": "stream",
          "name": "stdout",
          "text": [
            "+------+--------------+---------------------------+------------+-----------------------+----------+-------------+-------------+------+\n",
            "|gender|race/ethnicity|parental level of education|       lunch|test preparation course|math score|reading score|writing score| score|\n",
            "+------+--------------+---------------------------+------------+-----------------------+----------+-------------+-------------+------+\n",
            "|  male|       group D|           some high school|    standard|                   none|        95|           84|           86|    95|\n",
            "|  male|       group D|            master's degree|    standard|                   none|        96|           92|         NULL|    96|\n",
            "|  male|       group D|         associate's degree|    standard|              completed|       100|           97|           99|   100|\n",
            "|  male|       group E|          bachelor's degree|    standard|              completed|        99|          100|         NULL|    99|\n",
            "|female|       group D|         associate's degree|    standard|                   none|        92|           96|           97|    92|\n",
            "|female|       group C|         associate's degree|    standard|              completed|        92|          100|          100|    92|\n",
            "|  male|       group A|               some college|    standard|              completed|        90|           86|           85|    90|\n",
            "|  male|       group E|          bachelor's degree|free/reduced|              completed|        91|           88|           93|    91|\n",
            "+------+--------------+---------------------------+------------+-----------------------+----------+-------------+-------------+------+\n",
            "\n"
          ]
        }
      ]
    },
    {
      "cell_type": "code",
      "source": [
        "from pyspark.sql import functions as f\n",
        "print(\"The number of missing values in each column :\")\n",
        "data.select([f.count(f.when(f.isnan(c) | f.col(c).isNull(), c)).alias(c) for c in data.columns]).show()"
      ],
      "metadata": {
        "colab": {
          "base_uri": "https://localhost:8080/"
        },
        "id": "qd2I9-PvH1uU",
        "outputId": "b7668d71-9eb0-4aae-fc14-a6575d753c58"
      },
      "execution_count": null,
      "outputs": [
        {
          "output_type": "stream",
          "name": "stdout",
          "text": [
            "The number of missing values in each column :\n",
            "+------+--------------+---------------------------+-----+-----------------------+----------+-------------+-------------+------+\n",
            "|gender|race/ethnicity|parental level of education|lunch|test preparation course|math score|reading score|writing score| score|\n",
            "+------+--------------+---------------------------+-----+-----------------------+----------+-------------+-------------+------+\n",
            "|     0|             0|                          0|    0|                      0|        11|            7|            8|    11|\n",
            "+------+--------------+---------------------------+-----+-----------------------+----------+-------------+-------------+------+\n",
            "\n"
          ]
        }
      ]
    },
    {
      "cell_type": "code",
      "source": [
        "data.groupBy(\"race/ethnicity\", \"parental level of education\").count().show()"
      ],
      "metadata": {
        "id": "xH-aYqBCJHrh",
        "colab": {
          "base_uri": "https://localhost:8080/"
        },
        "outputId": "ff778580-ecd3-4f47-9fb3-1004e2887415"
      },
      "execution_count": null,
      "outputs": [
        {
          "output_type": "stream",
          "name": "stdout",
          "text": [
            "+--------------+---------------------------+-----+\n",
            "|race/ethnicity|parental level of education|count|\n",
            "+--------------+---------------------------+-----+\n",
            "|       group A|            master's degree|    1|\n",
            "|       group D|            master's degree|    2|\n",
            "|       group D|           some high school|    6|\n",
            "|       group E|          bachelor's degree|    4|\n",
            "|       group E|                high school|    3|\n",
            "|       group A|         associate's degree|    1|\n",
            "|       group E|         associate's degree|    4|\n",
            "|       group A|                high school|    1|\n",
            "|       group B|         associate's degree|    4|\n",
            "|       group E|            master's degree|    1|\n",
            "|       group E|           some high school|    2|\n",
            "|       group D|                high school|    5|\n",
            "|       group A|           some high school|    2|\n",
            "|       group C|          bachelor's degree|    4|\n",
            "|       group D|          bachelor's degree|    5|\n",
            "|       group B|            master's degree|    1|\n",
            "|       group B|                high school|    3|\n",
            "|       group B|               some college|    4|\n",
            "|       group D|         associate's degree|    7|\n",
            "|       group B|          bachelor's degree|    4|\n",
            "+--------------+---------------------------+-----+\n",
            "only showing top 20 rows\n",
            "\n"
          ]
        }
      ]
    },
    {
      "cell_type": "code",
      "source": [
        "data.filter(data[\"test preparation course\"] == \"completed\").show()"
      ],
      "metadata": {
        "colab": {
          "base_uri": "https://localhost:8080/"
        },
        "id": "c6uSnyBwOmec",
        "outputId": "c9dceb14-21d3-4d96-b750-62a74c8f3c2d"
      },
      "execution_count": null,
      "outputs": [
        {
          "output_type": "stream",
          "name": "stdout",
          "text": [
            "+------+--------------+---------------------------+------------+-----------------------+----------+-------------+-------------+------+\n",
            "|gender|race/ethnicity|parental level of education|       lunch|test preparation course|math score|reading score|writing score| score|\n",
            "+------+--------------+---------------------------+------------+-----------------------+----------+-------------+-------------+------+\n",
            "|  male|       group D|          bachelor's degree|    standard|              completed|      NULL|           70|           66|  NULL|\n",
            "|female|       group B|               some college|    standard|              completed|        60|           76|           73|    60|\n",
            "|  male|       group D|           some high school|    standard|              completed|      NULL|           62|           62|  NULL|\n",
            "|female|       group C|            master's degree|    standard|              completed|        87|           91|           99|    87|\n",
            "|female|       group D|         associate's degree|free/reduced|              completed|        37|           55|           52|    37|\n",
            "|  male|       group D|         associate's degree|    standard|              completed|       100|           97|           99|   100|\n",
            "|female|       group C|            master's degree|free/reduced|              completed|        54|           57|           67|    54|\n",
            "|  male|       group B|                high school|    standard|              completed|        67|           64|           60|    67|\n",
            "|  male|       group C|         associate's degree|free/reduced|              completed|        78|           80|           78|    78|\n",
            "|  male|       group E|          bachelor's degree|    standard|              completed|        99|          100|         NULL|    99|\n",
            "|  male|       group B|                high school|    standard|              completed|        80|           82|           82|    80|\n",
            "|female|       group D|            master's degree|free/reduced|              completed|        65|           70|           81|    65|\n",
            "|  male|       group C|           some high school|    standard|              completed|        86|           82|           78|    86|\n",
            "|  male|       group B|         associate's degree|    standard|              completed|        44|         NULL|           44|    44|\n",
            "|  male|       group C|               some college|    standard|              completed|        52|           47|           54|    52|\n",
            "|  male|       group D|               some college|    standard|              completed|        58|           57|           65|    58|\n",
            "|  male|       group B|          bachelor's degree|free/reduced|              completed|      NULL|           60|           48|  NULL|\n",
            "|female|       group C|         associate's degree|    standard|              completed|        92|          100|          100|    92|\n",
            "|  male|       group B|           some high school|    standard|              completed|        62|           57|           58|    62|\n",
            "|  male|       group B|               some college|    standard|              completed|        53|           52|           60|    53|\n",
            "+------+--------------+---------------------------+------------+-----------------------+----------+-------------+-------------+------+\n",
            "only showing top 20 rows\n",
            "\n"
          ]
        }
      ]
    },
    {
      "cell_type": "code",
      "source": [
        "data.select(mean(\"math score\"),max(\"math score\"),min(\"math score\")).show()"
      ],
      "metadata": {
        "colab": {
          "base_uri": "https://localhost:8080/"
        },
        "id": "8dTIp2dZRGC0",
        "outputId": "dcd0b1cc-ce3e-4cc7-c0a2-5d340b6047be"
      },
      "execution_count": null,
      "outputs": [
        {
          "output_type": "stream",
          "name": "stdout",
          "text": [
            "+-----------------+---------------+---------------+\n",
            "|  avg(math score)|max(math score)|min(math score)|\n",
            "+-----------------+---------------+---------------+\n",
            "|67.33707865168539|            100|             32|\n",
            "+-----------------+---------------+---------------+\n",
            "\n"
          ]
        }
      ]
    }
  ]
}